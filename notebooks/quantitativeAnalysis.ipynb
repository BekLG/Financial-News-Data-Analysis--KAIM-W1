{
 "cells": [
  {
   "cell_type": "markdown",
   "metadata": {},
   "source": [
    "Importing Necessary Libraries"
   ]
  },
  {
   "cell_type": "code",
   "execution_count": 12,
   "metadata": {},
   "outputs": [],
   "source": [
    "import pandas as pd\n",
    "import matplotlib.pyplot as plt\n",
    "import seaborn as sns\n",
    "import pynance as pn\n",
    "import matplotlib.pyplot as plt\n",
    "import talib"
   ]
  },
  {
   "cell_type": "markdown",
   "metadata": {},
   "source": [
    "load the dataset"
   ]
  },
  {
   "cell_type": "code",
   "execution_count": 22,
   "metadata": {},
   "outputs": [],
   "source": [
    "data = pd.read_csv('../data/yfinance_data/AAPL_historical_data.csv')"
   ]
  },
  {
   "cell_type": "markdown",
   "metadata": {},
   "source": [
    "prepare the data"
   ]
  },
  {
   "cell_type": "code",
   "execution_count": 23,
   "metadata": {},
   "outputs": [
    {
     "name": "stdout",
     "output_type": "stream",
     "text": [
      "         Date      Open      High       Low     Close  Adj Close     Volume  \\\n",
      "0  1980-12-12  0.128348  0.128906  0.128348  0.128348   0.098943  469033600   \n",
      "1  1980-12-15  0.122210  0.122210  0.121652  0.121652   0.093781  175884800   \n",
      "2  1980-12-16  0.113281  0.113281  0.112723  0.112723   0.086898  105728000   \n",
      "3  1980-12-17  0.115513  0.116071  0.115513  0.115513   0.089049   86441600   \n",
      "4  1980-12-18  0.118862  0.119420  0.118862  0.118862   0.091630   73449600   \n",
      "\n",
      "   Dividends  Stock Splits  \n",
      "0        0.0           0.0  \n",
      "1        0.0           0.0  \n",
      "2        0.0           0.0  \n",
      "3        0.0           0.0  \n",
      "4        0.0           0.0  \n",
      "<class 'pandas.core.frame.DataFrame'>\n",
      "RangeIndex: 10998 entries, 0 to 10997\n",
      "Data columns (total 9 columns):\n",
      " #   Column        Non-Null Count  Dtype  \n",
      "---  ------        --------------  -----  \n",
      " 0   Date          10998 non-null  object \n",
      " 1   Open          10998 non-null  float64\n",
      " 2   High          10998 non-null  float64\n",
      " 3   Low           10998 non-null  float64\n",
      " 4   Close         10998 non-null  float64\n",
      " 5   Adj Close     10998 non-null  float64\n",
      " 6   Volume        10998 non-null  int64  \n",
      " 7   Dividends     10998 non-null  float64\n",
      " 8   Stock Splits  10998 non-null  float64\n",
      "dtypes: float64(7), int64(1), object(1)\n",
      "memory usage: 773.4+ KB\n",
      "None\n",
      "Date            0\n",
      "Open            0\n",
      "High            0\n",
      "Low             0\n",
      "Close           0\n",
      "Adj Close       0\n",
      "Volume          0\n",
      "Dividends       0\n",
      "Stock Splits    0\n",
      "dtype: int64\n"
     ]
    }
   ],
   "source": [
    "# Check the DataFrame and ensure it includes necessary columns\n",
    "print(data.head())\n",
    "print(data.info())\n",
    "print(data.isnull().sum())"
   ]
  },
  {
   "cell_type": "code",
   "execution_count": 24,
   "metadata": {},
   "outputs": [
    {
     "name": "stdout",
     "output_type": "stream",
     "text": [
      "<class 'pandas.core.frame.DataFrame'>\n",
      "RangeIndex: 10998 entries, 0 to 10997\n",
      "Data columns (total 9 columns):\n",
      " #   Column        Non-Null Count  Dtype         \n",
      "---  ------        --------------  -----         \n",
      " 0   Date          10998 non-null  datetime64[ns]\n",
      " 1   Open          10998 non-null  float64       \n",
      " 2   High          10998 non-null  float64       \n",
      " 3   Low           10998 non-null  float64       \n",
      " 4   Close         10998 non-null  float64       \n",
      " 5   Adj Close     10998 non-null  float64       \n",
      " 6   Volume        10998 non-null  int64         \n",
      " 7   Dividends     10998 non-null  float64       \n",
      " 8   Stock Splits  10998 non-null  float64       \n",
      "dtypes: datetime64[ns](1), float64(7), int64(1)\n",
      "memory usage: 773.4 KB\n",
      "None\n",
      "Index(['Date', 'Open', 'High', 'Low', 'Close', 'Adj Close', 'Volume',\n",
      "       'Dividends', 'Stock Splits'],\n",
      "      dtype='object')\n"
     ]
    }
   ],
   "source": [
    "data['Date'] = pd.to_datetime(data['Date'], errors='coerce')\n",
    "print(data.info())\n",
    "print(data.columns)"
   ]
  }
 ],
 "metadata": {
  "kernelspec": {
   "display_name": "venv",
   "language": "python",
   "name": "python3"
  },
  "language_info": {
   "codemirror_mode": {
    "name": "ipython",
    "version": 3
   },
   "file_extension": ".py",
   "mimetype": "text/x-python",
   "name": "python",
   "nbconvert_exporter": "python",
   "pygments_lexer": "ipython3",
   "version": "3.9.19"
  }
 },
 "nbformat": 4,
 "nbformat_minor": 2
}
